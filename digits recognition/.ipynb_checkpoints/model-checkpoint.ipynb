{
 "cells": [
  {
   "cell_type": "markdown",
   "id": "ea5376d1",
   "metadata": {},
   "source": [
    "# Digits recognition with supervised and unsupervised ML algorithms\n",
    "### Using \"classical\" ML algorithms to recognise hand-written digits. \n",
    "It is obvious that even with high accuracy, the variance of such a model will be too large. The project aims to see the possibilities of algorithms without the use of deep learning and is a sandbox for various techniques."
   ]
  },
  {
   "cell_type": "code",
   "execution_count": 20,
   "id": "205bf820",
   "metadata": {},
   "outputs": [],
   "source": [
    "import matplotlib.pyplot as plt\n",
    "import numpy as np\n",
    "import pandas as pd\n",
    "import pickle\n",
    "\n",
    "from sklearn.model_selection import train_test_split\n",
    "from sklearn.pipeline import Pipeline\n",
    "from sklearn.model_selection import GridSearchCV\n",
    "\n",
    "from sklearn.preprocessing import StandardScaler, MinMaxScaler, Normalizer\n",
    "from sklearn.neighbors import KNeighborsClassifier\n",
    "from sklearn.linear_model import SGDClassifier\n",
    "from sklearn.ensemble import RandomForestClassifier\n",
    "\n",
    "from sklearn.metrics import confusion_matrix\n",
    "from sklearn.metrics import precision_score, recall_score\n",
    "from sklearn.model_selection import cross_val_predict,  cross_val_score\n",
    "from sklearn.metrics import accuracy_score"
   ]
  },
  {
   "cell_type": "markdown",
   "id": "1442f313",
   "metadata": {},
   "source": [
    "# Downloading and analyzing data"
   ]
  },
  {
   "cell_type": "code",
   "execution_count": 3,
   "id": "3861d3b8",
   "metadata": {},
   "outputs": [],
   "source": [
    "#importing MNIST dataset with handwritten digits \n",
    "\n",
    "# from sklearn.datasets import fetch_openml\n",
    "df = fetch_openml(\"mnist_784\", version=1)\n",
    "\n",
    "# downloading mnist data every time is ineffective, saving them once as a file then reading them is much faster\n",
    "\n",
    "with open(\"data.pickle\", \"wb\") as f:\n",
    "    pickle.dump(df, f)"
   ]
  },
  {
   "cell_type": "code",
   "execution_count": 4,
   "id": "f2f368a0",
   "metadata": {},
   "outputs": [],
   "source": [
    "#load data\n",
    "# with open(\"data.pickle\", \"rb\") as f:\n",
    "#     df = pickle.load(f)"
   ]
  },
  {
   "cell_type": "code",
   "execution_count": 5,
   "id": "f0b6b822",
   "metadata": {},
   "outputs": [
    {
     "data": {
      "text/plain": [
       "((70000, 784), (70000,))"
      ]
     },
     "execution_count": 5,
     "metadata": {},
     "output_type": "execute_result"
    }
   ],
   "source": [
    "#dividing dataset into data and target datasets\n",
    "X, y = np.array(df[\"data\"]), np.array(df[\"target\"])\n",
    "X.shape, y.shape"
   ]
  },
  {
   "cell_type": "code",
   "execution_count": 6,
   "id": "3d8a834f",
   "metadata": {},
   "outputs": [
    {
     "data": {
      "text/plain": [
       "array([[0., 0., 0., ..., 0., 0., 0.],\n",
       "       [0., 0., 0., ..., 0., 0., 0.],\n",
       "       [0., 0., 0., ..., 0., 0., 0.],\n",
       "       ...,\n",
       "       [0., 0., 0., ..., 0., 0., 0.],\n",
       "       [0., 0., 0., ..., 0., 0., 0.],\n",
       "       [0., 0., 0., ..., 0., 0., 0.]])"
      ]
     },
     "execution_count": 6,
     "metadata": {},
     "output_type": "execute_result"
    }
   ],
   "source": [
    "X"
   ]
  },
  {
   "cell_type": "code",
   "execution_count": 7,
   "id": "dc217fb3",
   "metadata": {},
   "outputs": [
    {
     "data": {
      "text/plain": [
       "array(['5', '0', '4', ..., '4', '5', '6'], dtype=object)"
      ]
     },
     "execution_count": 7,
     "metadata": {},
     "output_type": "execute_result"
    }
   ],
   "source": [
    "y"
   ]
  },
  {
   "cell_type": "code",
   "execution_count": 8,
   "id": "5cbd1475",
   "metadata": {},
   "outputs": [
    {
     "name": "stdout",
     "output_type": "stream",
     "text": [
      "<class 'str'>\n",
      "<class 'numpy.uint8'>\n"
     ]
    }
   ],
   "source": [
    "#y data are str type, let's transform it\n",
    "print(type(y[0]))\n",
    "y = y.astype(\"uint8\")\n",
    "print(type(y[0]))"
   ]
  },
  {
   "cell_type": "code",
   "execution_count": 9,
   "id": "d8ee37b4",
   "metadata": {},
   "outputs": [
    {
     "name": "stdout",
     "output_type": "stream",
     "text": [
      "0:  9.861%\n",
      "1:  11.253%\n",
      "2:  9.986%\n",
      "3:  10.201%\n",
      "4:  9.749%\n",
      "5:  9.019%\n",
      "6:  9.823%\n",
      "7:  10.419%\n",
      "8:  9.750%\n",
      "9:  9.940%\n"
     ]
    }
   ],
   "source": [
    "#distribution of the number of digits in a data set\n",
    "for number in range(10):\n",
    "    print(f\"{number}: {len(y[y==number])/len(y) * 100: .3f}%\")\n",
    "#it seems that dataset is not very skewed, that's good :)"
   ]
  },
  {
   "cell_type": "code",
   "execution_count": 10,
   "id": "0572d33b",
   "metadata": {},
   "outputs": [
    {
     "name": "stdout",
     "output_type": "stream",
     "text": [
      "0\n",
      "0\n"
     ]
    }
   ],
   "source": [
    "#checking if there are nan values\n",
    "print(np.isnan(X).sum())\n",
    "print(np.isnan(y).sum())"
   ]
  },
  {
   "cell_type": "code",
   "execution_count": 11,
   "id": "216b8362",
   "metadata": {},
   "outputs": [
    {
     "data": {
      "image/png": "[encoded data removed]",
      "text/plain": [
       "<Figure size 432x288 with 1 Axes>"
      ]
     },
     "metadata": {
      "needs_background": "light"
     },
     "output_type": "display_data"
    }
   ],
   "source": [
    "#showing sample image of number\n",
    "plt.imshow(X[0].reshape(28,28), cmap = \"binary\")\n",
    "plt.show()"
   ]
  },
  {
   "cell_type": "code",
   "execution_count": 12,
   "id": "f95e6622",
   "metadata": {},
   "outputs": [],
   "source": [
    "#splitting datasets into train and test sets\n",
    "X_train, X_test, y_train, y_test = train_test_split(X,y, test_size=1/7, random_state=42)"
   ]
  },
  {
   "cell_type": "markdown",
   "id": "79cda029",
   "metadata": {},
   "source": [
    "# Building model"
   ]
  },
  {
   "cell_type": "code",
   "execution_count": 13,
   "id": "3b20348d",
   "metadata": {},
   "outputs": [
    {
     "name": "stdout",
     "output_type": "stream",
     "text": [
      "knn model accuracy: [0.9673  0.96945 0.96735]\n",
      "sgd model accuracy: [0.8614  0.88205 0.8757 ]\n",
      "rfg model accuracy: [0.9658  0.96815 0.96545]\n"
     ]
    }
   ],
   "source": [
    "#at first it would be a good idea to find the most promising model\n",
    "knn_clf = KNeighborsClassifier()\n",
    "sgd_clf = SGDClassifier()\n",
    "rfg_clf = RandomForestClassifier()\n",
    "\n",
    "print(\"knn model accuracy:\", cross_val_score(knn_clf, X_train, y_train, cv=3, scoring=\"accuracy\"))\n",
    "print(\"sgd model accuracy:\", cross_val_score(sgd_clf, X_train, y_train, cv=3, scoring=\"accuracy\"))\n",
    "print(\"rfg model accuracy:\", cross_val_score(rfg_clf, X_train, y_train, cv=3, scoring=\"accuracy\"))"
   ]
  },
  {
   "cell_type": "code",
   "execution_count": 12,
   "id": "ff3168f4",
   "metadata": {},
   "outputs": [
    {
     "name": "stdout",
     "output_type": "stream",
     "text": [
      "{'scaler': [Normalizer()], 'classifier': [KNeighborsClassifier()], 'classifier__n_neighbors': [3, 5, 7]}\n"
     ]
    }
   ],
   "source": [
    "#the knn model seems to be the most promising, let's tune the hyperparameters\n",
    "#building pipeline \n",
    "pipeline = Pipeline([\n",
    "    (\"scaler\", StandardScaler()),\n",
    "    (\"classifier\", KNeighborsClassifier()),\n",
    "])\n",
    "\n",
    "params= {}\n",
    "# params[\"scaler\"] = [Normalizer(), StandardScaler(), MinMaxScaler()] \n",
    "params[\"scaler\"] = [Normalizer()] \n",
    "params[\"classifier\"] = [KNeighborsClassifier()]\n",
    "params[\"classifier__n_neighbors\"] = [3, 5, 7]\n",
    "\n",
    "print(params)\n",
    "\n",
    "\n",
    "grid = GridSearchCV(pipeline, params, cv=3, scoring = \"accuracy\", n_jobs=-1)"
   ]
  },
  {
   "cell_type": "code",
   "execution_count": 13,
   "id": "6b5062f3",
   "metadata": {},
   "outputs": [
    {
     "data": {
      "text/plain": [
       "GridSearchCV(cv=3,\n",
       "             estimator=Pipeline(steps=[('scaler', StandardScaler()),\n",
       "                                       ('classifier', KNeighborsClassifier())]),\n",
       "             n_jobs=-1,\n",
       "             param_grid={'classifier': [KNeighborsClassifier(n_neighbors=3)],\n",
       "                         'classifier__n_neighbors': [3, 5, 7],\n",
       "                         'scaler': [Normalizer()]},\n",
       "             scoring='accuracy')"
      ]
     },
     "execution_count": 13,
     "metadata": {},
     "output_type": "execute_result"
    }
   ],
   "source": [
    "grid.fit(X_train, y_train)"
   ]
  },
  {
   "cell_type": "code",
   "execution_count": 14,
   "id": "092a72f8",
   "metadata": {},
   "outputs": [
    {
     "data": {
      "text/html": [
       "<div>\n",
       "<style scoped>\n",
       "    .dataframe tbody tr th:only-of-type {\n",
       "        vertical-align: middle;\n",
       "    }\n",
       "\n",
       "    .dataframe tbody tr th {\n",
       "        vertical-align: top;\n",
       "    }\n",
       "\n",
       "    .dataframe thead th {\n",
       "        text-align: right;\n",
       "    }\n",
       "</style>\n",
       "<table border=\"1\" class=\"dataframe\">\n",
       "  <thead>\n",
       "    <tr style=\"text-align: right;\">\n",
       "      <th></th>\n",
       "      <th>mean_fit_time</th>\n",
       "      <th>std_fit_time</th>\n",
       "      <th>mean_score_time</th>\n",
       "      <th>std_score_time</th>\n",
       "      <th>param_classifier</th>\n",
       "      <th>param_classifier__n_neighbors</th>\n",
       "      <th>param_scaler</th>\n",
       "      <th>params</th>\n",
       "      <th>split0_test_score</th>\n",
       "      <th>split1_test_score</th>\n",
       "      <th>split2_test_score</th>\n",
       "      <th>mean_test_score</th>\n",
       "      <th>std_test_score</th>\n",
       "      <th>rank_test_score</th>\n",
       "    </tr>\n",
       "  </thead>\n",
       "  <tbody>\n",
       "    <tr>\n",
       "      <th>0</th>\n",
       "      <td>1.963287</td>\n",
       "      <td>0.244737</td>\n",
       "      <td>311.222089</td>\n",
       "      <td>22.211935</td>\n",
       "      <td>KNeighborsClassifier(n_neighbors=3)</td>\n",
       "      <td>3</td>\n",
       "      <td>Normalizer()</td>\n",
       "      <td>{'classifier': KNeighborsClassifier(n_neighbor...</td>\n",
       "      <td>0.97415</td>\n",
       "      <td>0.9752</td>\n",
       "      <td>0.9727</td>\n",
       "      <td>0.974017</td>\n",
       "      <td>0.001025</td>\n",
       "      <td>1</td>\n",
       "    </tr>\n",
       "    <tr>\n",
       "      <th>1</th>\n",
       "      <td>5.523836</td>\n",
       "      <td>2.353290</td>\n",
       "      <td>324.330310</td>\n",
       "      <td>4.107602</td>\n",
       "      <td>KNeighborsClassifier(n_neighbors=3)</td>\n",
       "      <td>5</td>\n",
       "      <td>Normalizer()</td>\n",
       "      <td>{'classifier': KNeighborsClassifier(n_neighbor...</td>\n",
       "      <td>0.97330</td>\n",
       "      <td>0.9744</td>\n",
       "      <td>0.9719</td>\n",
       "      <td>0.973200</td>\n",
       "      <td>0.001023</td>\n",
       "      <td>2</td>\n",
       "    </tr>\n",
       "    <tr>\n",
       "      <th>2</th>\n",
       "      <td>4.222510</td>\n",
       "      <td>2.090952</td>\n",
       "      <td>243.561232</td>\n",
       "      <td>93.925578</td>\n",
       "      <td>KNeighborsClassifier(n_neighbors=3)</td>\n",
       "      <td>7</td>\n",
       "      <td>Normalizer()</td>\n",
       "      <td>{'classifier': KNeighborsClassifier(n_neighbor...</td>\n",
       "      <td>0.97150</td>\n",
       "      <td>0.9723</td>\n",
       "      <td>0.9712</td>\n",
       "      <td>0.971667</td>\n",
       "      <td>0.000464</td>\n",
       "      <td>3</td>\n",
       "    </tr>\n",
       "  </tbody>\n",
       "</table>\n",
       "</div>"
      ],
      "text/plain": [
       "   mean_fit_time  std_fit_time  mean_score_time  std_score_time  \\\n",
       "0       1.963287      0.244737       311.222089       22.211935   \n",
       "1       5.523836      2.353290       324.330310        4.107602   \n",
       "2       4.222510      2.090952       243.561232       93.925578   \n",
       "\n",
       "                      param_classifier param_classifier__n_neighbors  \\\n",
       "0  KNeighborsClassifier(n_neighbors=3)                             3   \n",
       "1  KNeighborsClassifier(n_neighbors=3)                             5   \n",
       "2  KNeighborsClassifier(n_neighbors=3)                             7   \n",
       "\n",
       "   param_scaler                                             params  \\\n",
       "0  Normalizer()  {'classifier': KNeighborsClassifier(n_neighbor...   \n",
       "1  Normalizer()  {'classifier': KNeighborsClassifier(n_neighbor...   \n",
       "2  Normalizer()  {'classifier': KNeighborsClassifier(n_neighbor...   \n",
       "\n",
       "   split0_test_score  split1_test_score  split2_test_score  mean_test_score  \\\n",
       "0            0.97415             0.9752             0.9727         0.974017   \n",
       "1            0.97330             0.9744             0.9719         0.973200   \n",
       "2            0.97150             0.9723             0.9712         0.971667   \n",
       "\n",
       "   std_test_score  rank_test_score  \n",
       "0        0.001025                1  \n",
       "1        0.001023                2  \n",
       "2        0.000464                3  "
      ]
     },
     "execution_count": 14,
     "metadata": {},
     "output_type": "execute_result"
    }
   ],
   "source": [
    "evaluation = pd.DataFrame(data=grid.cv_results_)\n",
    "evaluation"
   ]
  },
  {
   "cell_type": "code",
   "execution_count": 15,
   "id": "253b04ab",
   "metadata": {},
   "outputs": [
    {
     "name": "stdout",
     "output_type": "stream",
     "text": [
      "best estimator: Pipeline(steps=[('scaler', Normalizer()),\n",
      "                ('classifier', KNeighborsClassifier(n_neighbors=3))])\n",
      "best params: {'classifier': KNeighborsClassifier(n_neighbors=3), 'classifier__n_neighbors': 3, 'scaler': Normalizer()}\n",
      "best accuracy:  0.974%\n"
     ]
    }
   ],
   "source": [
    "# after a long time of calculations the best hyperparameters are as follows:\n",
    "print(f\"best estimator: {grid.best_estimator_}\")\n",
    "print(f\"best params: {grid.best_params_}\")\n",
    "print(f\"best accuracy: {grid.best_score_: .3f}%\")\n"
   ]
  },
  {
   "cell_type": "code",
   "execution_count": 23,
   "id": "d649f4c0",
   "metadata": {},
   "outputs": [
    {
     "data": {
      "text/plain": [
       "Pipeline(steps=[('scaler', Normalizer()),\n",
       "                ('classifier', KNeighborsClassifier(n_neighbors=3))])"
      ]
     },
     "execution_count": 23,
     "metadata": {},
     "output_type": "execute_result"
    }
   ],
   "source": [
    "# training the final model on the entire data set\n",
    "model = Pipeline([\n",
    "    (\"scaler\", Normalizer()),\n",
    "    (\"classifier\", KNeighborsClassifier(n_neighbors=3)),\n",
    "])\n",
    "\n",
    "model.fit(X_train, y_train)"
   ]
  },
  {
   "cell_type": "code",
   "execution_count": 35,
   "id": "48a53d21",
   "metadata": {},
   "outputs": [
    {
     "name": "stdout",
     "output_type": "stream",
     "text": [
      "accuracy:  0.977%\n"
     ]
    }
   ],
   "source": [
    "# applying the model to the test set and see the accuracy of final model\n",
    "from sklearn.metrics import accuracy_score\n",
    "y_pred = model.predict(X_test)\n",
    "print(f\"accuracy: {accuracy_score(y_test, y_pred)}%\")\n"
   ]
  },
  {
   "cell_type": "markdown",
   "id": "f72b61d3",
   "metadata": {},
   "source": [
    "### Not bad! But let's try to improve the model with more advanced techniques"
   ]
  },
  {
   "cell_type": "markdown",
   "id": "0eea7f46",
   "metadata": {},
   "source": [
    "# Dimensionality reduction"
   ]
  },
  {
   "cell_type": "code",
   "execution_count": 23,
   "id": "df87dc75",
   "metadata": {},
   "outputs": [
    {
     "data": {
      "text/plain": [
       "RandomForestClassifier(random_state=42)"
      ]
     },
     "execution_count": 23,
     "metadata": {},
     "output_type": "execute_result"
    }
   ],
   "source": [
    "#When we look at the digits in the dataset, we see that most of the plot is actually white pixels\n",
    "#let's visualize it better with random forest algorithm\n",
    "rnd_clf = RandomForestClassifier(n_estimators=100, random_state=42)\n",
    "rnd_clf.fit(X_train, y_train)"
   ]
  },
  {
   "cell_type": "code",
   "execution_count": 24,
   "id": "f23cbf8d",
   "metadata": {},
   "outputs": [
    {
     "data": {
      "text/plain": [
       "0.9674"
      ]
     },
     "execution_count": 24,
     "metadata": {},
     "output_type": "execute_result"
    }
   ],
   "source": [
    "#quick look at accuracy\n",
    "y_pred = rnd_clf.predict(X_test)\n",
    "accuracy_score(y_test, y_pred)"
   ]
  },
  {
   "cell_type": "code",
   "execution_count": 25,
   "id": "d27f4282",
   "metadata": {},
   "outputs": [],
   "source": [
    "def plot_digit(data):\n",
    "    image = data.reshape(28, 28)\n",
    "    plt.imshow(image, cmap = \"hot\",\n",
    "               interpolation=\"nearest\")\n",
    "    plt.axis(\"off\")"
   ]
  },
  {
   "cell_type": "code",
   "execution_count": 26,
   "id": "b2ea234b",
   "metadata": {},
   "outputs": [
    {
     "data": {
      "image/png": "[encoded data removed]",
      "text/plain": [
       "<Figure size 432x288 with 2 Axes>"
      ]
     },
     "metadata": {
      "needs_background": "light"
     },
     "output_type": "display_data"
    }
   ],
   "source": [
    "plot_digit(rnd_clf.feature_importances_)\n",
    "\n",
    "heatmap = plt.colorbar(ticks=[rnd_clf.feature_importances_.min(), rnd_clf.feature_importances_.max()])\n",
    "heatmap.ax.set_yticklabels(['Not important', 'Very important'])\n",
    "plt.show()"
   ]
  },
  {
   "cell_type": "code",
   "execution_count": 27,
   "id": "2b03fb44",
   "metadata": {},
   "outputs": [],
   "source": [
    "#the sides of the photo have practically no effect on the accuracy of the algorithm\n",
    "#Maybe PCA will reduce number of features and boost learning of the model? Let's try\n",
    "from sklearn.decomposition import PCA\n",
    "pca = PCA(n_components=0.95)\n",
    "X_reduced = pca.fit_transform(X_train)"
   ]
  },
  {
   "cell_type": "code",
   "execution_count": 31,
   "id": "0164c84f",
   "metadata": {},
   "outputs": [
    {
     "data": {
      "text/plain": [
       "(154,)"
      ]
     },
     "execution_count": 31,
     "metadata": {},
     "output_type": "execute_result"
    }
   ],
   "source": [
    "X_reduced[0].shape"
   ]
  },
  {
   "cell_type": "code",
   "execution_count": 32,
   "id": "c11946cb",
   "metadata": {},
   "outputs": [
    {
     "data": {
      "text/plain": [
       "RandomForestClassifier(random_state=42)"
      ]
     },
     "execution_count": 32,
     "metadata": {},
     "output_type": "execute_result"
    }
   ],
   "source": [
    "#Looks like PCA reduced number of dimension to only 154! That's muuuch less than 784\n",
    "#but what with accuracy?\n",
    "rnd_clf.fit(X_reduced, y_train)"
   ]
  },
  {
   "cell_type": "code",
   "execution_count": 36,
   "id": "e7da1f11",
   "metadata": {},
   "outputs": [
    {
     "data": {
      "text/plain": [
       "0.9469"
      ]
     },
     "execution_count": 36,
     "metadata": {},
     "output_type": "execute_result"
    }
   ],
   "source": [
    "#fast look on the accuracy\n",
    "y_pred = rnd_clf.predict(pca.transform(X_test))\n",
    "accuracy_score(y_test, y_pred)"
   ]
  },
  {
   "cell_type": "code",
   "execution_count": null,
   "id": "981b7240",
   "metadata": {},
   "outputs": [],
   "source": [
    "#well...I expected much better result, but I don't give up :)"
   ]
  },
  {
   "cell_type": "markdown",
   "id": "8dfe4496",
   "metadata": {},
   "source": [
    "# Clustering"
   ]
  },
  {
   "cell_type": "code",
   "execution_count": 39,
   "id": "e904b12e",
   "metadata": {},
   "outputs": [
    {
     "data": {
      "text/plain": [
       "Pipeline(steps=[('kmeans', KMeans(n_clusters=200)),\n",
       "                ('classifier', RandomForestClassifier(random_state=42))])"
      ]
     },
     "execution_count": 39,
     "metadata": {},
     "output_type": "execute_result"
    }
   ],
   "source": [
    "# Sometimes clustering is good in preprocessing data, let's see\n",
    "from sklearn.cluster import KMeans\n",
    "pipe = Pipeline([\n",
    "    (\"kmeans\", KMeans(n_clusters = 200)),\n",
    "    (\"classifier\", RandomForestClassifier(n_estimators=100, random_state=42))\n",
    "])\n",
    "pipe.fit(X_train, y_train)"
   ]
  },
  {
   "cell_type": "code",
   "execution_count": 40,
   "id": "25426f05",
   "metadata": {},
   "outputs": [
    {
     "data": {
      "text/plain": [
       "0.9444"
      ]
     },
     "execution_count": 40,
     "metadata": {},
     "output_type": "execute_result"
    }
   ],
   "source": [
    "pipe.score(X_test, y_test)"
   ]
  },
  {
   "cell_type": "code",
   "execution_count": null,
   "id": "a13a4dc9",
   "metadata": {},
   "outputs": [],
   "source": [
    "#again there is no improvment"
   ]
  },
  {
   "cell_type": "markdown",
   "id": "7c0d8492",
   "metadata": {},
   "source": [
    "# Ensemble learning"
   ]
  },
  {
   "cell_type": "code",
   "execution_count": 44,
   "id": "b1c98201",
   "metadata": {},
   "outputs": [],
   "source": [
    "# one of the most powerful (and my favourites) algorithms is XGBoost, let's see how it will perform\n",
    "from xgboost import XGBClassifier\n",
    "xgb_clf = XGBClassifier()\n",
    "\n",
    "params = [\n",
    " dict(\n",
    "    max_depth=[2,4,6],           # maximum depth of each tree - try 2 to 10\n",
    "#     learning_rate=0.01,    # effect of each tree - try 0.0001 to 0.1\n",
    "#     n_estimators=1000,     # number of trees (that is, boosting rounds) - try 1000 to 8000\n",
    "#     min_child_weight=1,    # minimum number of houses in a leaf - try 1 to 10\n",
    "#     colsample_bytree=0.7,  # fraction of features (columns) per tree - try 0.2 to 1.0\n",
    "#     subsample=0.7,         # fraction of instances (rows) per tree - try 0.2 to 1.0\n",
    "#     reg_alpha=0.5,         # L1 regularization (like LASSO) - try 0.0 to 10.0\n",
    "#     reg_lambda=1.0,        # L2 regularization (like Ridge) - try 0.0 to 10.0\n",
    "#     num_parallel_tree=1,   # set > 1 for boosted random forests    \n",
    " )]\n",
    "grid = GridSearchCV(xgb_clf, params, cv=3, scoring = \"accuracy\", n_jobs=5)"
   ]
  },
  {
   "cell_type": "code",
   "execution_count": 45,
   "id": "4375918f",
   "metadata": {},
   "outputs": [
    {
     "name": "stderr",
     "output_type": "stream",
     "text": [
      "D:\\Anaconda_pliki_instalacyjne\\lib\\site-packages\\xgboost\\sklearn.py:1224: UserWarning: The use of label encoder in XGBClassifier is deprecated and will be removed in a future release. To remove this warning, do the following: 1) Pass option use_label_encoder=False when constructing XGBClassifier object; and 2) Encode your labels (y) as integers starting with 0, i.e. 0, 1, 2, ..., [num_class - 1].\n",
      "  warnings.warn(label_encoder_deprecation_msg, UserWarning)\n"
     ]
    },
    {
     "name": "stdout",
     "output_type": "stream",
     "text": [
      "[23:17:31] WARNING: C:\\Windows\\Temp\\abs_557yfx631l\\croots\\recipe\\xgboost-split_1659548953302\\work\\src\\learner.cc:1115: Starting in XGBoost 1.3.0, the default evaluation metric used with the objective 'multi:softprob' was changed from 'merror' to 'mlogloss'. Explicitly set eval_metric if you'd like to restore the old behavior.\n"
     ]
    },
    {
     "data": {
      "text/plain": [
       "GridSearchCV(cv=3,\n",
       "             estimator=XGBClassifier(base_score=None, booster=None,\n",
       "                                     colsample_bylevel=None,\n",
       "                                     colsample_bynode=None,\n",
       "                                     colsample_bytree=None,\n",
       "                                     enable_categorical=False, gamma=None,\n",
       "                                     gpu_id=None, importance_type=None,\n",
       "                                     interaction_constraints=None,\n",
       "                                     learning_rate=None, max_delta_step=None,\n",
       "                                     max_depth=None, min_child_weight=None,\n",
       "                                     missing=nan, monotone_constraints=None,\n",
       "                                     n_estimators=100, n_jobs=None,\n",
       "                                     num_parallel_tree=None, predictor=None,\n",
       "                                     random_state=None, reg_alpha=None,\n",
       "                                     reg_lambda=None, scale_pos_weight=None,\n",
       "                                     subsample=None, tree_method=None,\n",
       "                                     validate_parameters=None, verbosity=None),\n",
       "             n_jobs=5, param_grid=[{'max_depth': [2, 4, 6]}],\n",
       "             scoring='accuracy')"
      ]
     },
     "execution_count": 45,
     "metadata": {},
     "output_type": "execute_result"
    }
   ],
   "source": [
    "grid.fit(X_train, y_train)"
   ]
  },
  {
   "cell_type": "code",
   "execution_count": 46,
   "id": "0b7c1f7a",
   "metadata": {},
   "outputs": [
    {
     "data": {
      "text/html": [
       "<div>\n",
       "<style scoped>\n",
       "    .dataframe tbody tr th:only-of-type {\n",
       "        vertical-align: middle;\n",
       "    }\n",
       "\n",
       "    .dataframe tbody tr th {\n",
       "        vertical-align: top;\n",
       "    }\n",
       "\n",
       "    .dataframe thead th {\n",
       "        text-align: right;\n",
       "    }\n",
       "</style>\n",
       "<table border=\"1\" class=\"dataframe\">\n",
       "  <thead>\n",
       "    <tr style=\"text-align: right;\">\n",
       "      <th></th>\n",
       "      <th>mean_fit_time</th>\n",
       "      <th>std_fit_time</th>\n",
       "      <th>mean_score_time</th>\n",
       "      <th>std_score_time</th>\n",
       "      <th>param_max_depth</th>\n",
       "      <th>params</th>\n",
       "      <th>split0_test_score</th>\n",
       "      <th>split1_test_score</th>\n",
       "      <th>split2_test_score</th>\n",
       "      <th>mean_test_score</th>\n",
       "      <th>std_test_score</th>\n",
       "      <th>rank_test_score</th>\n",
       "    </tr>\n",
       "  </thead>\n",
       "  <tbody>\n",
       "    <tr>\n",
       "      <th>0</th>\n",
       "      <td>571.679082</td>\n",
       "      <td>1.519690</td>\n",
       "      <td>0.586990</td>\n",
       "      <td>0.059388</td>\n",
       "      <td>2</td>\n",
       "      <td>{'max_depth': 2}</td>\n",
       "      <td>0.93765</td>\n",
       "      <td>0.93755</td>\n",
       "      <td>0.93825</td>\n",
       "      <td>0.937817</td>\n",
       "      <td>0.000309</td>\n",
       "      <td>3</td>\n",
       "    </tr>\n",
       "    <tr>\n",
       "      <th>1</th>\n",
       "      <td>1080.781249</td>\n",
       "      <td>119.825314</td>\n",
       "      <td>0.467795</td>\n",
       "      <td>0.063577</td>\n",
       "      <td>4</td>\n",
       "      <td>{'max_depth': 4}</td>\n",
       "      <td>0.97065</td>\n",
       "      <td>0.97030</td>\n",
       "      <td>0.96995</td>\n",
       "      <td>0.970300</td>\n",
       "      <td>0.000286</td>\n",
       "      <td>2</td>\n",
       "    </tr>\n",
       "    <tr>\n",
       "      <th>2</th>\n",
       "      <td>1253.261217</td>\n",
       "      <td>216.596030</td>\n",
       "      <td>0.387331</td>\n",
       "      <td>0.089442</td>\n",
       "      <td>6</td>\n",
       "      <td>{'max_depth': 6}</td>\n",
       "      <td>0.97360</td>\n",
       "      <td>0.97475</td>\n",
       "      <td>0.97345</td>\n",
       "      <td>0.973933</td>\n",
       "      <td>0.000581</td>\n",
       "      <td>1</td>\n",
       "    </tr>\n",
       "  </tbody>\n",
       "</table>\n",
       "</div>"
      ],
      "text/plain": [
       "   mean_fit_time  std_fit_time  mean_score_time  std_score_time  \\\n",
       "0     571.679082      1.519690         0.586990        0.059388   \n",
       "1    1080.781249    119.825314         0.467795        0.063577   \n",
       "2    1253.261217    216.596030         0.387331        0.089442   \n",
       "\n",
       "  param_max_depth            params  split0_test_score  split1_test_score  \\\n",
       "0               2  {'max_depth': 2}            0.93765            0.93755   \n",
       "1               4  {'max_depth': 4}            0.97065            0.97030   \n",
       "2               6  {'max_depth': 6}            0.97360            0.97475   \n",
       "\n",
       "   split2_test_score  mean_test_score  std_test_score  rank_test_score  \n",
       "0            0.93825         0.937817        0.000309                3  \n",
       "1            0.96995         0.970300        0.000286                2  \n",
       "2            0.97345         0.973933        0.000581                1  "
      ]
     },
     "execution_count": 46,
     "metadata": {},
     "output_type": "execute_result"
    }
   ],
   "source": [
    "evaluation = pd.DataFrame(data=grid.cv_results_)\n",
    "evaluation"
   ]
  },
  {
   "cell_type": "code",
   "execution_count": 39,
   "id": "54242d53",
   "metadata": {},
   "outputs": [],
   "source": [
    "#saving model\n",
    "with open(\"model.pickle\", \"wb\") as f:\n",
    "    pickle.dump(model, f)"
   ]
  }
 ],
 "metadata": {
  "kernelspec": {
   "display_name": "Python 3 (ipykernel)",
   "language": "python",
   "name": "python3"
  },
  "language_info": {
   "codemirror_mode": {
    "name": "ipython",
    "version": 3
   },
   "file_extension": ".py",
   "mimetype": "text/x-python",
   "name": "python",
   "nbconvert_exporter": "python",
   "pygments_lexer": "ipython3",
   "version": "3.9.15"
  }
 },
 "nbformat": 4,
 "nbformat_minor": 5
}
