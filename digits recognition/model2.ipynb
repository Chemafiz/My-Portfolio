{
 "cells": [
  {
   "cell_type": "markdown",
   "metadata": {},
   "source": [
    "# Digits recognition using Deep Learning\n",
    "### Using Deep Learning to recognise hand-written digits. \n",
    "\n",
    "My first attempts with neural networks. The project includes two trained models. One \"naive\" using a regular perceptron and the other using the Convolutional Neural Network"
   ]
  },
  {
   "cell_type": "markdown",
   "metadata": {},
   "source": [
    "## Data preprocessing"
   ]
  },
  {
   "cell_type": "code",
   "execution_count": 1,
   "metadata": {
    "id": "HyE0v9sZeKs0"
   },
   "outputs": [],
   "source": [
    "import tensorflow.keras as keras\n",
    "import numpy as np\n",
    "import pandas as pd\n",
    "import matplotlib.pyplot as plt"
   ]
  },
  {
   "cell_type": "code",
   "execution_count": 2,
   "metadata": {
    "id": "ylU24MnIeZOs"
   },
   "outputs": [],
   "source": [
    "#importing MNIST dataset with handwritten digits \n",
    "from sklearn.datasets import fetch_openml\n",
    "df = fetch_openml(\"mnist_784\", version=1)"
   ]
  },
  {
   "cell_type": "code",
   "execution_count": 3,
   "metadata": {
    "colab": {
     "base_uri": "https://localhost:8080/"
    },
    "id": "z-dnHwZQebvW",
    "outputId": "81f09d94-21b0-42e2-a1c0-1778017b707b"
   },
   "outputs": [
    {
     "data": {
      "text/plain": [
       "((70000, 784), (70000,))"
      ]
     },
     "execution_count": 3,
     "metadata": {},
     "output_type": "execute_result"
    }
   ],
   "source": [
    "#dividing dataset into data and target datasets\n",
    "X, y = np.array(df[\"data\"]), np.array(df[\"target\"])\n",
    "X.shape, y.shape"
   ]
  },
  {
   "cell_type": "code",
   "execution_count": 4,
   "metadata": {
    "colab": {
     "base_uri": "https://localhost:8080/"
    },
    "id": "j8manfxzebyV",
    "outputId": "0a2afe57-b542-42f9-b85d-13fe78531799"
   },
   "outputs": [
    {
     "data": {
      "text/plain": [
       "array([[0., 0., 0., ..., 0., 0., 0.],\n",
       "       [0., 0., 0., ..., 0., 0., 0.],\n",
       "       [0., 0., 0., ..., 0., 0., 0.],\n",
       "       ...,\n",
       "       [0., 0., 0., ..., 0., 0., 0.],\n",
       "       [0., 0., 0., ..., 0., 0., 0.],\n",
       "       [0., 0., 0., ..., 0., 0., 0.]])"
      ]
     },
     "execution_count": 4,
     "metadata": {},
     "output_type": "execute_result"
    }
   ],
   "source": [
    "X"
   ]
  },
  {
   "cell_type": "code",
   "execution_count": 5,
   "metadata": {
    "colab": {
     "base_uri": "https://localhost:8080/"
    },
    "id": "ZDZSfIereb1O",
    "outputId": "7a1985fb-7cc6-41dc-cc32-fb1b3686b784"
   },
   "outputs": [
    {
     "data": {
      "text/plain": [
       "array(['5', '0', '4', ..., '4', '5', '6'], dtype=object)"
      ]
     },
     "execution_count": 5,
     "metadata": {},
     "output_type": "execute_result"
    }
   ],
   "source": [
    "y"
   ]
  },
  {
   "cell_type": "code",
   "execution_count": 6,
   "metadata": {
    "colab": {
     "base_uri": "https://localhost:8080/"
    },
    "id": "BnvyFyrEgMqj",
    "outputId": "995ff297-7a2d-444e-9ac2-7aa5f68bd5f6"
   },
   "outputs": [
    {
     "name": "stdout",
     "output_type": "stream",
     "text": [
      "<class 'str'>\n",
      "<class 'numpy.uint8'>\n"
     ]
    }
   ],
   "source": [
    "#y data are str type, let's transform it\n",
    "print(type(y[0]))\n",
    "y = y.astype(\"uint8\")\n",
    "print(type(y[0]))"
   ]
  },
  {
   "cell_type": "code",
   "execution_count": 7,
   "metadata": {
    "colab": {
     "base_uri": "https://localhost:8080/",
     "height": 265
    },
    "id": "Jvppw2queb8t",
    "outputId": "a97ff047-1a25-452a-81f2-b7fd398a11dc"
   },
   "outputs": [
    {
     "data": {
      "image/png": "[encoded data removed]",
      "text/plain": [
       "<Figure size 432x288 with 1 Axes>"
      ]
     },
     "metadata": {
      "needs_background": "light"
     },
     "output_type": "display_data"
    }
   ],
   "source": [
    "#showing sample image of number\n",
    "plt.imshow(X[0].reshape(28,28), cmap = \"binary\")\n",
    "plt.show()"
   ]
  },
  {
   "cell_type": "code",
   "execution_count": 8,
   "metadata": {
    "id": "Lmq2siRDh5DN"
   },
   "outputs": [],
   "source": [
    "#scale data between 0 and 1\n",
    "from sklearn.preprocessing import MinMaxScaler\n",
    "\n",
    "scaler = MinMaxScaler()\n",
    "X = scaler.fit_transform(X)"
   ]
  },
  {
   "cell_type": "code",
   "execution_count": 9,
   "metadata": {
    "id": "nO4ynA4Yeb3t"
   },
   "outputs": [],
   "source": [
    "#splitting datasets into train and test sets\n",
    "from sklearn.model_selection import train_test_split\n",
    "X_train_full, X_test, y_train_full, y_test = train_test_split(X,y, test_size=0.10, random_state=42)"
   ]
  },
  {
   "cell_type": "code",
   "execution_count": 10,
   "metadata": {
    "colab": {
     "base_uri": "https://localhost:8080/"
    },
    "id": "67a-oADZeb51",
    "outputId": "5f865c7b-a89f-4bda-a3f1-81997e109c36"
   },
   "outputs": [
    {
     "data": {
      "text/plain": [
       "((63000, 784), (63000,))"
      ]
     },
     "execution_count": 10,
     "metadata": {},
     "output_type": "execute_result"
    }
   ],
   "source": [
    "X_train_full.shape, y_train_full.shape"
   ]
  },
  {
   "cell_type": "code",
   "execution_count": 11,
   "metadata": {
    "id": "g6pAqI_aeb_V"
   },
   "outputs": [],
   "source": [
    "#validation set\n",
    "X_valid, X_train = X_train_full[:5000], X_train_full[5000:]\n",
    "y_valid, y_train = y_train_full[:5000], y_train_full[5000:]"
   ]
  },
  {
   "cell_type": "markdown",
   "metadata": {},
   "source": [
    "## First model:  Building Perceptron model"
   ]
  },
  {
   "cell_type": "code",
   "execution_count": 12,
   "metadata": {
    "id": "dEFaRtD9ecCE"
   },
   "outputs": [],
   "source": [
    "#model\n",
    "from keras.models import Sequential\n",
    "from keras.layers import Dense\n",
    "\n",
    "model = Sequential([\n",
    "    Dense(units=300, activation=\"relu\", input_shape=[784, ]),\n",
    "    Dense(units=300, activation=\"relu\"),\n",
    "    Dense(units=10, activation=\"softmax\")\n",
    "])"
   ]
  },
  {
   "cell_type": "code",
   "execution_count": 13,
   "metadata": {
    "colab": {
     "base_uri": "https://localhost:8080/"
    },
    "id": "qoPJJRJxecEr",
    "outputId": "9ffd347e-ddc2-44fb-f969-7c3ff836651f"
   },
   "outputs": [
    {
     "name": "stdout",
     "output_type": "stream",
     "text": [
      "Model: \"sequential\"\n",
      "_________________________________________________________________\n",
      " Layer (type)                Output Shape              Param #   \n",
      "=================================================================\n",
      " dense (Dense)               (None, 300)               235500    \n",
      "                                                                 \n",
      " dense_1 (Dense)             (None, 300)               90300     \n",
      "                                                                 \n",
      " dense_2 (Dense)             (None, 10)                3010      \n",
      "                                                                 \n",
      "=================================================================\n",
      "Total params: 328,810\n",
      "Trainable params: 328,810\n",
      "Non-trainable params: 0\n",
      "_________________________________________________________________\n"
     ]
    }
   ],
   "source": [
    "model.summary()"
   ]
  },
  {
   "cell_type": "code",
   "execution_count": 14,
   "metadata": {
    "id": "GJsPV6k-ecRd"
   },
   "outputs": [],
   "source": [
    "model.compile(loss=\"sparse_categorical_crossentropy\", optimizer=\"sgd\", metrics=\"accuracy\")"
   ]
  },
  {
   "cell_type": "code",
   "execution_count": 15,
   "metadata": {
    "colab": {
     "base_uri": "https://localhost:8080/"
    },
    "id": "iUTlC5a-khHK",
    "outputId": "4c4fde89-c42c-459c-e96c-1a7954455241"
   },
   "outputs": [
    {
     "name": "stdout",
     "output_type": "stream",
     "text": [
      "Epoch 1/30\n",
      "1813/1813 [==============================] - 7s 3ms/step - loss: 0.5897 - accuracy: 0.8493 - val_loss: 0.3141 - val_accuracy: 0.9138\n",
      "Epoch 2/30\n",
      "1813/1813 [==============================] - 6s 3ms/step - loss: 0.2818 - accuracy: 0.9185 - val_loss: 0.2548 - val_accuracy: 0.9290\n",
      "Epoch 3/30\n",
      "1813/1813 [==============================] - 5s 3ms/step - loss: 0.2295 - accuracy: 0.9342 - val_loss: 0.2208 - val_accuracy: 0.9390\n",
      "Epoch 4/30\n",
      "1813/1813 [==============================] - 5s 3ms/step - loss: 0.1942 - accuracy: 0.9437 - val_loss: 0.1951 - val_accuracy: 0.9468\n",
      "Epoch 5/30\n",
      "1813/1813 [==============================] - 5s 3ms/step - loss: 0.1684 - accuracy: 0.9516 - val_loss: 0.1774 - val_accuracy: 0.9504\n",
      "Epoch 6/30\n",
      "1813/1813 [==============================] - 5s 3ms/step - loss: 0.1489 - accuracy: 0.9574 - val_loss: 0.1580 - val_accuracy: 0.9550\n",
      "Epoch 7/30\n",
      "1813/1813 [==============================] - 5s 3ms/step - loss: 0.1333 - accuracy: 0.9621 - val_loss: 0.1461 - val_accuracy: 0.9600\n",
      "Epoch 8/30\n",
      "1813/1813 [==============================] - 5s 3ms/step - loss: 0.1201 - accuracy: 0.9662 - val_loss: 0.1402 - val_accuracy: 0.9602\n",
      "Epoch 9/30\n",
      "1813/1813 [==============================] - 5s 3ms/step - loss: 0.1094 - accuracy: 0.9690 - val_loss: 0.1283 - val_accuracy: 0.9648\n",
      "Epoch 10/30\n",
      "1813/1813 [==============================] - 5s 3ms/step - loss: 0.0999 - accuracy: 0.9716 - val_loss: 0.1249 - val_accuracy: 0.9650\n",
      "Epoch 11/30\n",
      "1813/1813 [==============================] - 5s 3ms/step - loss: 0.0918 - accuracy: 0.9736 - val_loss: 0.1164 - val_accuracy: 0.9672\n",
      "Epoch 12/30\n",
      "1813/1813 [==============================] - 5s 3ms/step - loss: 0.0851 - accuracy: 0.9759 - val_loss: 0.1117 - val_accuracy: 0.9668\n",
      "Epoch 13/30\n",
      "1813/1813 [==============================] - 5s 3ms/step - loss: 0.0789 - accuracy: 0.9775 - val_loss: 0.1071 - val_accuracy: 0.9700\n",
      "Epoch 14/30\n",
      "1813/1813 [==============================] - 5s 3ms/step - loss: 0.0729 - accuracy: 0.9797 - val_loss: 0.1030 - val_accuracy: 0.9700\n",
      "Epoch 15/30\n",
      "1813/1813 [==============================] - 5s 3ms/step - loss: 0.0680 - accuracy: 0.9809 - val_loss: 0.1000 - val_accuracy: 0.9702\n",
      "Epoch 16/30\n",
      "1813/1813 [==============================] - 5s 3ms/step - loss: 0.0634 - accuracy: 0.9822 - val_loss: 0.0981 - val_accuracy: 0.9714\n",
      "Epoch 17/30\n",
      "1813/1813 [==============================] - 5s 3ms/step - loss: 0.0594 - accuracy: 0.9833 - val_loss: 0.0967 - val_accuracy: 0.9728\n",
      "Epoch 18/30\n",
      "1813/1813 [==============================] - 5s 3ms/step - loss: 0.0558 - accuracy: 0.9848 - val_loss: 0.0924 - val_accuracy: 0.9732\n",
      "Epoch 19/30\n",
      "1813/1813 [==============================] - 5s 3ms/step - loss: 0.0519 - accuracy: 0.9860 - val_loss: 0.0930 - val_accuracy: 0.9716\n",
      "Epoch 20/30\n",
      "1813/1813 [==============================] - 5s 3ms/step - loss: 0.0489 - accuracy: 0.9867 - val_loss: 0.0875 - val_accuracy: 0.9728\n",
      "Epoch 21/30\n",
      "1813/1813 [==============================] - 5s 3ms/step - loss: 0.0461 - accuracy: 0.9879 - val_loss: 0.0860 - val_accuracy: 0.9750\n",
      "Epoch 22/30\n",
      "1813/1813 [==============================] - 5s 3ms/step - loss: 0.0431 - accuracy: 0.9886 - val_loss: 0.0869 - val_accuracy: 0.9748\n",
      "Epoch 23/30\n",
      "1813/1813 [==============================] - 5s 3ms/step - loss: 0.0406 - accuracy: 0.9894 - val_loss: 0.0839 - val_accuracy: 0.9764\n",
      "Epoch 24/30\n",
      "1813/1813 [==============================] - 5s 3ms/step - loss: 0.0385 - accuracy: 0.9898 - val_loss: 0.0813 - val_accuracy: 0.9770\n",
      "Epoch 25/30\n",
      "1813/1813 [==============================] - 5s 3ms/step - loss: 0.0364 - accuracy: 0.9909 - val_loss: 0.0821 - val_accuracy: 0.9758\n",
      "Epoch 26/30\n",
      "1813/1813 [==============================] - 5s 3ms/step - loss: 0.0342 - accuracy: 0.9917 - val_loss: 0.0813 - val_accuracy: 0.9756\n",
      "Epoch 27/30\n",
      "1813/1813 [==============================] - 5s 3ms/step - loss: 0.0325 - accuracy: 0.9923 - val_loss: 0.0800 - val_accuracy: 0.9770\n",
      "Epoch 28/30\n",
      "1813/1813 [==============================] - 5s 3ms/step - loss: 0.0306 - accuracy: 0.9927 - val_loss: 0.0799 - val_accuracy: 0.9766\n",
      "Epoch 29/30\n",
      "1813/1813 [==============================] - 5s 3ms/step - loss: 0.0289 - accuracy: 0.9936 - val_loss: 0.0813 - val_accuracy: 0.9750\n",
      "Epoch 30/30\n",
      "1813/1813 [==============================] - 5s 3ms/step - loss: 0.0273 - accuracy: 0.9940 - val_loss: 0.0785 - val_accuracy: 0.9770\n"
     ]
    }
   ],
   "source": [
    "history = model.fit(X_train, y_train, epochs=30, validation_data=(X_valid, y_valid))"
   ]
  },
  {
   "cell_type": "code",
   "execution_count": null,
   "metadata": {
    "colab": {
     "base_uri": "https://localhost:8080/",
     "height": 487
    },
    "id": "PForebSokhJl",
    "outputId": "de9394db-b589-43cb-afd7-a88a0aa1cc30"
   },
   "outputs": [],
   "source": [
    "pd.DataFrame(history.history).plot(figsize=(10,8))\n",
    "plt.title(\"Learning curve of first model\")\n",
    "plt.grid(True)\n",
    "plt.ylim(0,1)\n",
    "plt.xlim(0,)\n",
    "plt.show()"
   ]
  },
  {
   "cell_type": "code",
   "execution_count": 17,
   "metadata": {
    "colab": {
     "base_uri": "https://localhost:8080/"
    },
    "id": "K7xUV4nbkhML",
    "outputId": "7024da81-5a61-432b-8ee3-498d4ff7ba7e"
   },
   "outputs": [
    {
     "name": "stdout",
     "output_type": "stream",
     "text": [
      "219/219 [==============================] - 0s 2ms/step - loss: 0.0835 - accuracy: 0.9743\n"
     ]
    },
    {
     "data": {
      "text/plain": [
       "[0.08348093181848526, 0.9742857217788696]"
      ]
     },
     "execution_count": 17,
     "metadata": {},
     "output_type": "execute_result"
    }
   ],
   "source": [
    "model.evaluate(X_test, y_test)"
   ]
  },
  {
   "cell_type": "code",
   "execution_count": 21,
   "metadata": {
    "id": "ryq-442FkhO2"
   },
   "outputs": [],
   "source": [
    "#saving model\n",
    "from tensorflow.keras.models import Model\n",
    "from tensorflow.keras.models import load_model\n",
    "\n",
    "model.save(\"perceptrone_model\")"
   ]
  },
  {
   "cell_type": "code",
   "execution_count": 24,
   "metadata": {
    "id": "Rb48lO1fkhRr"
   },
   "outputs": [],
   "source": [
    "\n",
    "m = load_model(\"perceptrone_model\")"
   ]
  },
  {
   "cell_type": "code",
   "execution_count": 25,
   "metadata": {
    "colab": {
     "base_uri": "https://localhost:8080/"
    },
    "id": "fNV25UL_khVP",
    "outputId": "9c7eb88d-84e4-4283-ab0e-cbdd37e44172"
   },
   "outputs": [
    {
     "name": "stdout",
     "output_type": "stream",
     "text": [
      "219/219 [==============================] - 1s 3ms/step - loss: 0.0835 - accuracy: 0.9743\n"
     ]
    },
    {
     "data": {
      "text/plain": [
       "[0.08348093181848526, 0.9742857217788696]"
      ]
     },
     "execution_count": 25,
     "metadata": {},
     "output_type": "execute_result"
    }
   ],
   "source": [
    "m.evaluate(X_test, y_test)"
   ]
  },
  {
   "cell_type": "code",
   "execution_count": null,
   "metadata": {
    "id": "pj3pMr3ykhbi"
   },
   "outputs": [],
   "source": []
  },
  {
   "cell_type": "code",
   "execution_count": 26,
   "metadata": {
    "id": "2MgQdzWPkhdc"
   },
   "outputs": [],
   "source": [
    "#reshaping data to be original image shape\n",
    "X_train =X_train.reshape(-1, 28,28,1) \n",
    "X_test = X_test.reshape(-1, 28,28,1)\n",
    "X_valid = X_valid.reshape(-1, 28,28,1)"
   ]
  },
  {
   "cell_type": "code",
   "execution_count": 32,
   "metadata": {
    "id": "joBxJ9XnkhY-"
   },
   "outputs": [],
   "source": [
    "#building model\n",
    "from keras.layers import (\n",
    "    Conv2D,\n",
    "    MaxPool2D,\n",
    "    Flatten,\n",
    "    Dropout,\n",
    "    BatchNormalization,\n",
    ")\n",
    "\n",
    "model2 = Sequential([\n",
    "    Conv2D(75, (3, 3), strides=1, padding=\"same\", activation=\"relu\", input_shape=(28, 28, 1)),\n",
    "    BatchNormalization(),\n",
    "    MaxPool2D((2, 2), strides=2, padding=\"same\"),\n",
    "    Conv2D(50, (3, 3), strides=1, padding=\"same\", activation=\"relu\"),\n",
    "    Dropout(0.2),\n",
    "    BatchNormalization(),\n",
    "    MaxPool2D((2, 2), strides=2, padding=\"same\"),\n",
    "    Conv2D(25, (3, 3), strides=1, padding=\"same\", activation=\"relu\"),\n",
    "    BatchNormalization(),\n",
    "    MaxPool2D((2, 2), strides=2, padding=\"same\"),\n",
    "    Flatten(),\n",
    "    Dense(units=512, activation=\"relu\"),\n",
    "    Dropout(0.3),\n",
    "    Dense(units=10, activation=\"softmax\")\n",
    "])"
   ]
  },
  {
   "cell_type": "code",
   "execution_count": 43,
   "metadata": {
    "colab": {
     "base_uri": "https://localhost:8080/"
    },
    "id": "mk5S6YyXTYA4",
    "outputId": "1f094bf7-8756-4b0a-db7f-d43c08d64705"
   },
   "outputs": [
    {
     "name": "stdout",
     "output_type": "stream",
     "text": [
      "Model: \"sequential_1\"\n",
      "_________________________________________________________________\n",
      " Layer (type)                Output Shape              Param #   \n",
      "=================================================================\n",
      " conv2d (Conv2D)             (None, 28, 28, 75)        750       \n",
      "                                                                 \n",
      " batch_normalization (BatchN  (None, 28, 28, 75)       300       \n",
      " ormalization)                                                   \n",
      "                                                                 \n",
      " max_pooling2d (MaxPooling2D  (None, 14, 14, 75)       0         \n",
      " )                                                               \n",
      "                                                                 \n",
      " conv2d_1 (Conv2D)           (None, 14, 14, 50)        33800     \n",
      "                                                                 \n",
      " dropout (Dropout)           (None, 14, 14, 50)        0         \n",
      "                                                                 \n",
      " batch_normalization_1 (Batc  (None, 14, 14, 50)       200       \n",
      " hNormalization)                                                 \n",
      "                                                                 \n",
      " max_pooling2d_1 (MaxPooling  (None, 7, 7, 50)         0         \n",
      " 2D)                                                             \n",
      "                                                                 \n",
      " conv2d_2 (Conv2D)           (None, 7, 7, 25)          11275     \n",
      "                                                                 \n",
      " batch_normalization_2 (Batc  (None, 7, 7, 25)         100       \n",
      " hNormalization)                                                 \n",
      "                                                                 \n",
      " max_pooling2d_2 (MaxPooling  (None, 4, 4, 25)         0         \n",
      " 2D)                                                             \n",
      "                                                                 \n",
      " flatten (Flatten)           (None, 400)               0         \n",
      "                                                                 \n",
      " dense_3 (Dense)             (None, 512)               205312    \n",
      "                                                                 \n",
      " dropout_1 (Dropout)         (None, 512)               0         \n",
      "                                                                 \n",
      " dense_4 (Dense)             (None, 10)                5130      \n",
      "                                                                 \n",
      "=================================================================\n",
      "Total params: 256,867\n",
      "Trainable params: 256,567\n",
      "Non-trainable params: 300\n",
      "_________________________________________________________________\n"
     ]
    }
   ],
   "source": [
    "model2.summary()"
   ]
  },
  {
   "cell_type": "code",
   "execution_count": 38,
   "metadata": {
    "id": "KS4vnxqHNCfh"
   },
   "outputs": [],
   "source": [
    "model2.compile(loss=\"sparse_categorical_crossentropy\", optimizer=\"sgd\", metrics=[\"accuracy\"])"
   ]
  },
  {
   "cell_type": "code",
   "execution_count": 39,
   "metadata": {
    "colab": {
     "base_uri": "https://localhost:8080/"
    },
    "id": "TTyYJVmtNCmq",
    "outputId": "768ca825-7771-4c33-89c4-40d76435401e"
   },
   "outputs": [
    {
     "name": "stdout",
     "output_type": "stream",
     "text": [
      "Epoch 1/30\n",
      "1813/1813 [==============================] - 14s 5ms/step - loss: 0.1737 - accuracy: 0.9469 - val_loss: 0.0650 - val_accuracy: 0.9808\n",
      "Epoch 2/30\n",
      "1813/1813 [==============================] - 8s 4ms/step - loss: 0.0664 - accuracy: 0.9796 - val_loss: 0.0530 - val_accuracy: 0.9854\n",
      "Epoch 3/30\n",
      "1813/1813 [==============================] - 8s 5ms/step - loss: 0.0501 - accuracy: 0.9837 - val_loss: 0.0455 - val_accuracy: 0.9854\n",
      "Epoch 4/30\n",
      "1813/1813 [==============================] - 8s 4ms/step - loss: 0.0422 - accuracy: 0.9872 - val_loss: 0.0358 - val_accuracy: 0.9898\n",
      "Epoch 5/30\n",
      "1813/1813 [==============================] - 9s 5ms/step - loss: 0.0352 - accuracy: 0.9893 - val_loss: 0.0324 - val_accuracy: 0.9898\n",
      "Epoch 6/30\n",
      "1813/1813 [==============================] - 8s 4ms/step - loss: 0.0319 - accuracy: 0.9899 - val_loss: 0.0309 - val_accuracy: 0.9892\n",
      "Epoch 7/30\n",
      "1813/1813 [==============================] - 8s 5ms/step - loss: 0.0288 - accuracy: 0.9908 - val_loss: 0.0284 - val_accuracy: 0.9900\n",
      "Epoch 8/30\n",
      "1813/1813 [==============================] - 8s 4ms/step - loss: 0.0257 - accuracy: 0.9919 - val_loss: 0.0295 - val_accuracy: 0.9908\n",
      "Epoch 9/30\n",
      "1813/1813 [==============================] - 8s 4ms/step - loss: 0.0247 - accuracy: 0.9920 - val_loss: 0.0301 - val_accuracy: 0.9898\n",
      "Epoch 10/30\n",
      "1813/1813 [==============================] - 8s 4ms/step - loss: 0.0210 - accuracy: 0.9934 - val_loss: 0.0247 - val_accuracy: 0.9930\n",
      "Epoch 11/30\n",
      "1813/1813 [==============================] - 8s 4ms/step - loss: 0.0196 - accuracy: 0.9936 - val_loss: 0.0232 - val_accuracy: 0.9922\n",
      "Epoch 12/30\n",
      "1813/1813 [==============================] - 8s 4ms/step - loss: 0.0184 - accuracy: 0.9944 - val_loss: 0.0262 - val_accuracy: 0.9914\n",
      "Epoch 13/30\n",
      "1813/1813 [==============================] - 8s 4ms/step - loss: 0.0181 - accuracy: 0.9943 - val_loss: 0.0268 - val_accuracy: 0.9904\n",
      "Epoch 14/30\n",
      "1813/1813 [==============================] - 8s 4ms/step - loss: 0.0166 - accuracy: 0.9946 - val_loss: 0.0229 - val_accuracy: 0.9920\n",
      "Epoch 15/30\n",
      "1813/1813 [==============================] - 8s 5ms/step - loss: 0.0143 - accuracy: 0.9954 - val_loss: 0.0237 - val_accuracy: 0.9926\n",
      "Epoch 16/30\n",
      "1813/1813 [==============================] - 8s 5ms/step - loss: 0.0141 - accuracy: 0.9956 - val_loss: 0.0274 - val_accuracy: 0.9912\n",
      "Epoch 17/30\n",
      "1813/1813 [==============================] - 8s 5ms/step - loss: 0.0131 - accuracy: 0.9956 - val_loss: 0.0209 - val_accuracy: 0.9936\n",
      "Epoch 18/30\n",
      "1813/1813 [==============================] - 8s 5ms/step - loss: 0.0124 - accuracy: 0.9961 - val_loss: 0.0235 - val_accuracy: 0.9918\n",
      "Epoch 19/30\n",
      "1813/1813 [==============================] - 8s 4ms/step - loss: 0.0123 - accuracy: 0.9961 - val_loss: 0.0237 - val_accuracy: 0.9924\n",
      "Epoch 20/30\n",
      "1813/1813 [==============================] - 8s 4ms/step - loss: 0.0112 - accuracy: 0.9966 - val_loss: 0.0245 - val_accuracy: 0.9920\n",
      "Epoch 21/30\n",
      "1813/1813 [==============================] - 8s 4ms/step - loss: 0.0106 - accuracy: 0.9966 - val_loss: 0.0197 - val_accuracy: 0.9940\n",
      "Epoch 22/30\n",
      "1813/1813 [==============================] - 8s 5ms/step - loss: 0.0095 - accuracy: 0.9971 - val_loss: 0.0199 - val_accuracy: 0.9940\n",
      "Epoch 23/30\n",
      "1813/1813 [==============================] - 8s 4ms/step - loss: 0.0098 - accuracy: 0.9971 - val_loss: 0.0219 - val_accuracy: 0.9928\n",
      "Epoch 24/30\n",
      "1813/1813 [==============================] - 8s 4ms/step - loss: 0.0089 - accuracy: 0.9974 - val_loss: 0.0206 - val_accuracy: 0.9936\n",
      "Epoch 25/30\n",
      "1813/1813 [==============================] - 8s 5ms/step - loss: 0.0092 - accuracy: 0.9969 - val_loss: 0.0195 - val_accuracy: 0.9952\n",
      "Epoch 26/30\n",
      "1813/1813 [==============================] - 8s 4ms/step - loss: 0.0073 - accuracy: 0.9978 - val_loss: 0.0205 - val_accuracy: 0.9942\n",
      "Epoch 27/30\n",
      "1813/1813 [==============================] - 8s 5ms/step - loss: 0.0080 - accuracy: 0.9976 - val_loss: 0.0192 - val_accuracy: 0.9948\n",
      "Epoch 28/30\n",
      "1813/1813 [==============================] - 8s 5ms/step - loss: 0.0071 - accuracy: 0.9980 - val_loss: 0.0224 - val_accuracy: 0.9930\n",
      "Epoch 29/30\n",
      "1813/1813 [==============================] - 8s 4ms/step - loss: 0.0078 - accuracy: 0.9973 - val_loss: 0.0193 - val_accuracy: 0.9944\n",
      "Epoch 30/30\n",
      "1813/1813 [==============================] - 8s 5ms/step - loss: 0.0069 - accuracy: 0.9978 - val_loss: 0.0239 - val_accuracy: 0.9936\n"
     ]
    }
   ],
   "source": [
    "#training model\n",
    "history2= model2.fit(X_train, y_train, epochs=30, validation_data=(X_valid, y_valid))"
   ]
  },
  {
   "cell_type": "code",
   "execution_count": 40,
   "metadata": {
    "colab": {
     "base_uri": "https://localhost:8080/",
     "height": 487
    },
    "id": "iSnQC6VONCpT",
    "outputId": "aaca44da-a700-4606-c7f8-07f469406bd7"
   },
   "outputs": [
    {
     "data": {
      "image/png": "[encoded data removed]",
      "text/plain": [
       "<Figure size 720x576 with 1 Axes>"
      ]
     },
     "metadata": {
      "needs_background": "light"
     },
     "output_type": "display_data"
    }
   ],
   "source": [
    "#learning curves\n",
    "pd.DataFrame(history2.history).plot(figsize=(10,8))\n",
    "plt.grid(True)\n",
    "plt.ylim(0,1)\n",
    "plt.xlim(0,)\n",
    "plt.show()"
   ]
  },
  {
   "cell_type": "code",
   "execution_count": 42,
   "metadata": {
    "colab": {
     "base_uri": "https://localhost:8080/"
    },
    "id": "SJ3uThqRNCr1",
    "outputId": "84e8c7b9-c8b7-4b64-f630-49ca54fc64f1"
   },
   "outputs": [
    {
     "name": "stdout",
     "output_type": "stream",
     "text": [
      "219/219 [==============================] - 1s 6ms/step - loss: 0.0283 - accuracy: 0.9900\n"
     ]
    },
    {
     "data": {
      "text/plain": [
       "[0.02827921137213707, 0.9900000095367432]"
      ]
     },
     "execution_count": 42,
     "metadata": {},
     "output_type": "execute_result"
    }
   ],
   "source": [
    "#evaluation of the model\n",
    "model2.evaluate(X_test, y_test)"
   ]
  },
  {
   "cell_type": "code",
   "execution_count": null,
   "metadata": {},
   "outputs": [],
   "source": [
    "#99% accuracy, nice :)"
   ]
  },
  {
   "cell_type": "code",
   "execution_count": 44,
   "metadata": {
    "id": "idtjDQ0fNCuv"
   },
   "outputs": [],
   "source": [
    "#saving the model\n",
    "model.save(\"CNN_model\")"
   ]
  },
  {
   "cell_type": "code",
   "execution_count": null,
   "metadata": {
    "id": "Fif_4eoCNCxF"
   },
   "outputs": [],
   "source": []
  },
  {
   "cell_type": "code",
   "execution_count": 44,
   "metadata": {
    "id": "xMxygDamNCzt"
   },
   "outputs": [],
   "source": []
  },
  {
   "cell_type": "code",
   "execution_count": null,
   "metadata": {
    "id": "2dVyRhorRik7"
   },
   "outputs": [],
   "source": []
  }
 ],
 "metadata": {
  "accelerator": "GPU",
  "colab": {
   "provenance": []
  },
  "gpuClass": "standard",
  "kernelspec": {
   "display_name": "Python 3 (ipykernel)",
   "language": "python",
   "name": "python3"
  },
  "language_info": {
   "codemirror_mode": {
    "name": "ipython",
    "version": 3
   },
   "file_extension": ".py",
   "mimetype": "text/x-python",
   "name": "python",
   "nbconvert_exporter": "python",
   "pygments_lexer": "ipython3",
   "version": "3.9.15"
  }
 },
 "nbformat": 4,
 "nbformat_minor": 1
}
